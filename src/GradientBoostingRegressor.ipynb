{
 "cells": [
  {
   "cell_type": "code",
   "execution_count": 25,
   "id": "initial_id",
   "metadata": {
    "collapsed": true,
    "ExecuteTime": {
     "end_time": "2024-03-11T20:14:04.573392Z",
     "start_time": "2024-03-11T20:14:04.570358Z"
    }
   },
   "outputs": [],
   "source": [
    "#Imports\n",
    "import pandas as pd\n",
    "from sklearn.ensemble import GradientBoostingRegressor\n",
    "from sklearn.model_selection import train_test_split\n",
    "import seaborn as sns\n",
    "import matplotlib.pyplot as plt"
   ]
  },
  {
   "cell_type": "code",
   "outputs": [],
   "source": [
    "# Load the data\n",
    "df = pd.read_csv('../data/train_enc.csv')"
   ],
   "metadata": {
    "collapsed": false,
    "ExecuteTime": {
     "end_time": "2024-03-11T20:49:33.582795Z",
     "start_time": "2024-03-11T20:49:33.548391Z"
    }
   },
   "id": "3976d2e01c1de97f",
   "execution_count": 46
  },
  {
   "cell_type": "code",
   "outputs": [
    {
     "name": "stdout",
     "output_type": "stream",
     "text": [
      "(1168, 264)\n",
      "(292, 264)\n"
     ]
    }
   ],
   "source": [
    "# Split the data into training and validation sets\n",
    "train, validation = train_test_split(df, test_size=0.2, random_state=200, shuffle=True)\n",
    "\n",
    "print(train.shape)\n",
    "print(validation.shape)"
   ],
   "metadata": {
    "collapsed": false,
    "ExecuteTime": {
     "end_time": "2024-03-11T20:49:33.919006Z",
     "start_time": "2024-03-11T20:49:33.912938Z"
    }
   },
   "id": "8c5be0cf8e5c1915",
   "execution_count": 47
  },
  {
   "cell_type": "code",
   "outputs": [
    {
     "data": {
      "text/plain": "((1168, 263), (1168,), (292, 263), (292,))"
     },
     "execution_count": 48,
     "metadata": {},
     "output_type": "execute_result"
    }
   ],
   "source": [
    "# split the columns into features and target; ie x y split\n",
    "target = 'SalePrice'\n",
    "X_train = train.drop(target, axis=1)\n",
    "y_train = train[target]\n",
    "\n",
    "X_validation = validation.drop(target, axis=1)\n",
    "y_validation = validation[target]\n",
    "\n",
    "X_train.shape, y_train.shape, X_validation.shape, y_validation.shape"
   ],
   "metadata": {
    "collapsed": false,
    "ExecuteTime": {
     "end_time": "2024-03-11T20:49:35.333809Z",
     "start_time": "2024-03-11T20:49:35.324866Z"
    }
   },
   "id": "200f020f92746218",
   "execution_count": 48
  },
  {
   "cell_type": "markdown",
   "source": [
    "## Train the model (with default hyperparameters)"
   ],
   "metadata": {
    "collapsed": false
   },
   "id": "1129dbe854195449"
  },
  {
   "cell_type": "code",
   "outputs": [
    {
     "data": {
      "text/plain": "0.8544692256267449"
     },
     "execution_count": 49,
     "metadata": {},
     "output_type": "execute_result"
    }
   ],
   "source": [
    "# Create the model\n",
    "gbr_model = GradientBoostingRegressor()\n",
    "\n",
    "gbr_model.fit(X_train, y_train)\n",
    "\n",
    "# R2 score\n",
    "gbr_model.score(X_validation, y_validation)"
   ],
   "metadata": {
    "collapsed": false,
    "ExecuteTime": {
     "end_time": "2024-03-11T20:49:52.503081Z",
     "start_time": "2024-03-11T20:49:51.943129Z"
    }
   },
   "id": "7d1e0da407894024",
   "execution_count": 49
  },
  {
   "cell_type": "markdown",
   "source": [
    "Note that the score is already better than simple Random Forest Regressor. This is because Gradient Boosting is an ensemble method that builds trees sequentially, where each tree tries to correct the errors of the previous one. This is different from Random Forest, where each tree is built independently."
   ],
   "metadata": {
    "collapsed": false
   },
   "id": "a817a1338bc9a930"
  },
  {
   "cell_type": "markdown",
   "source": [
    "## Hyperparameter tuning using GridSearchCV"
   ],
   "metadata": {
    "collapsed": false
   },
   "id": "abb6b02db585dbb7"
  },
  {
   "cell_type": "code",
   "outputs": [
    {
     "name": "stdout",
     "output_type": "stream",
     "text": [
      "Best parameters:  {'learning_rate': 0.1, 'max_depth': 3, 'n_estimators': 200}\n",
      "Best score:  0.8752948432026901\n"
     ]
    }
   ],
   "source": [
    "from sklearn.model_selection import GridSearchCV\n",
    "\n",
    "# Define the hyperparameters to test\n",
    "param_grid = {\n",
    "    'n_estimators': [100, 200, 300],\n",
    "    'learning_rate': [0.01, 0.1, 1],\n",
    "    'max_depth': [3, 5, 7]\n",
    "}\n",
    "\n",
    "# Initialize the GridSearchCV\n",
    "grid_search = GridSearchCV(GradientBoostingRegressor(), param_grid, cv=3, scoring='r2', return_train_score=True)\n",
    "\n",
    "# Fit the GridSearchCV\n",
    "grid_search.fit(X_train, y_train)\n",
    "\n",
    "# Get the results of the grid search\n",
    "results = pd.DataFrame(grid_search.cv_results_)\n",
    "\n",
    "# Print the best parameters and corresponding score\n",
    "print(\"Best parameters: \", grid_search.best_params_)\n",
    "print(\"Best score: \", grid_search.best_score_)"
   ],
   "metadata": {
    "collapsed": false,
    "ExecuteTime": {
     "end_time": "2024-03-11T20:21:47.018901Z",
     "start_time": "2024-03-11T20:20:09.957805Z"
    }
   },
   "id": "7de344390f23a229",
   "execution_count": 40
  },
  {
   "cell_type": "code",
   "outputs": [
    {
     "data": {
      "text/plain": "<Figure size 864x432 with 2 Axes>",
      "image/png": "[encoded data removed]"
     },
     "metadata": {
      "needs_background": "light"
     },
     "output_type": "display_data"
    }
   ],
   "source": [
    "results = results.drop_duplicates(subset=['param_n_estimators', 'param_learning_rate'])\n",
    "\n",
    "# Reshape the results for the heatmap\n",
    "heatmap_data = results.pivot(index='param_n_estimators', columns='param_learning_rate', values='mean_test_score')\n",
    "\n",
    "# Create a heatmap\n",
    "fig, ax = plt.subplots(figsize=(12, 6))\n",
    "sns.heatmap(heatmap_data, annot=True, fmt='.3f', cmap='coolwarm', ax=ax)\n",
    "plt.xlabel('Learning Rate')\n",
    "plt.ylabel('Number of Estimators')\n",
    "plt.title('Hyperparameter Grid Search Results')\n",
    "plt.show()"
   ],
   "metadata": {
    "collapsed": false,
    "ExecuteTime": {
     "end_time": "2024-03-11T20:21:56.706379Z",
     "start_time": "2024-03-11T20:21:56.576677Z"
    }
   },
   "id": "a394466655eec044",
   "execution_count": 41
  },
  {
   "cell_type": "markdown",
   "source": [
    "##### The best parameters are n_estimators=200, learning_rate=0.1, and max_depth=3"
   ],
   "metadata": {
    "collapsed": false
   },
   "id": "8ffce79edd2e5bf6"
  },
  {
   "cell_type": "markdown",
   "source": [
    "## Repeat the process with the best parameters"
   ],
   "metadata": {
    "collapsed": false
   },
   "id": "be20aba7d14ea67a"
  },
  {
   "cell_type": "code",
   "outputs": [
    {
     "name": "stdout",
     "output_type": "stream",
     "text": [
      "0.8830426961440234\n",
      "0.9217109560818693\n",
      "0.8983175123007869\n",
      "0.8607922899736148\n",
      "0.9141303046143157\n",
      "0.9059989095817549\n",
      "0.8439540376070841\n",
      "0.9194703628977446\n",
      "0.8160654735979103\n",
      "0.9292164743588495\n",
      "0.8982136716186703\n",
      "0.8801226850278185\n",
      "0.8590806070044608\n",
      "0.6735194402743194\n",
      "0.8964315687280482\n",
      "0.9254231434430028\n",
      "0.7054460980929137\n",
      "0.896569536215723\n",
      "0.931337692254392\n",
      "0.7365853548436689\n"
     ]
    }
   ],
   "source": [
    "gbr_model = GradientBoostingRegressor(n_estimators=200, learning_rate=0.1, max_depth=3)\n",
    "r2_scores = []\n",
    "\n",
    "# Repeat the process 20 times with the best parameters, shuffling the data each time\n",
    "for i in range(20):\n",
    "    train, validation = train_test_split(df, test_size=0.2, random_state=i, shuffle=True)\n",
    "    \n",
    "    target = 'SalePrice'\n",
    "    train_x = train.drop(target, axis=1)\n",
    "    train_y = train[target]\n",
    "    validation_x = validation.drop(target, axis=1)\n",
    "    validation_y = validation[target]\n",
    "    \n",
    "    # Fit the model\n",
    "    gbr_model.fit(train_x, train_y)\n",
    "    \n",
    "    score = gbr_model.score(validation_x, validation_y)\n",
    "    print(score)\n",
    "    r2_scores.append(score)"
   ],
   "metadata": {
    "collapsed": false,
    "ExecuteTime": {
     "end_time": "2024-03-11T20:22:35.793226Z",
     "start_time": "2024-03-11T20:22:14.517087Z"
    }
   },
   "id": "97a2212cfb4da8d",
   "execution_count": 42
  },
  {
   "cell_type": "code",
   "outputs": [
    {
     "data": {
      "text/plain": "<Figure size 720x432 with 1 Axes>",
      "image/png": "[encoded data removed]"
     },
     "metadata": {
      "needs_background": "light"
     },
     "output_type": "display_data"
    }
   ],
   "source": [
    "# Plot the r2 scores to show consistency\n",
    "fig, ax = plt.subplots(figsize=(10, 6))\n",
    "sns.lineplot(x=range(20), y=r2_scores, ax=ax)\n",
    "ax.set_title('R2 Score Lineplot')\n",
    "ax.set_ylim(0.60, 1.0)\n",
    "ax.set_xticks(range(0, 21, 2))\n",
    "plt.show()"
   ],
   "metadata": {
    "collapsed": false,
    "ExecuteTime": {
     "end_time": "2024-03-11T20:25:04.818129Z",
     "start_time": "2024-03-11T20:25:04.714933Z"
    }
   },
   "id": "9a0de87f2859680c",
   "execution_count": 45
  },
  {
   "cell_type": "markdown",
   "source": [
    "##### The scores are fairly consistent, so we can be confident in the model's performance.\n",
    "\n",
    "Shuffling the data allows us to see the variation in the model's performance. The model's performance is consistent across different random states, so we can be confident in the model's performance. The R2 score is consistently above 0.8 (except a couple outliers), which is a good result for this dataset."
   ],
   "metadata": {
    "collapsed": false
   },
   "id": "dce5613718b92e9a"
  },
  {
   "cell_type": "markdown",
   "source": [
    "## Submission to Kaggle"
   ],
   "metadata": {
    "collapsed": false
   },
   "id": "f5ad5c8c5949a838"
  },
  {
   "cell_type": "code",
   "outputs": [
    {
     "data": {
      "text/plain": "        Id      SalePrice\n0     1461  120553.928387\n1     1462  161761.419977\n2     1463  182630.724507\n3     1464  182265.908255\n4     1465  203580.436097\n...    ...            ...\n1454  2915   86002.733050\n1455  2916   80594.335407\n1456  2917  170026.175704\n1457  2918  122693.529205\n1458  2919  225842.466854\n\n[1459 rows x 2 columns]",
      "text/html": "<div>\n<style scoped>\n    .dataframe tbody tr th:only-of-type {\n        vertical-align: middle;\n    }\n\n    .dataframe tbody tr th {\n        vertical-align: top;\n    }\n\n    .dataframe thead th {\n        text-align: right;\n    }\n</style>\n<table border=\"1\" class=\"dataframe\">\n  <thead>\n    <tr style=\"text-align: right;\">\n      <th></th>\n      <th>Id</th>\n      <th>SalePrice</th>\n    </tr>\n  </thead>\n  <tbody>\n    <tr>\n      <th>0</th>\n      <td>1461</td>\n      <td>120553.928387</td>\n    </tr>\n    <tr>\n      <th>1</th>\n      <td>1462</td>\n      <td>161761.419977</td>\n    </tr>\n    <tr>\n      <th>2</th>\n      <td>1463</td>\n      <td>182630.724507</td>\n    </tr>\n    <tr>\n      <th>3</th>\n      <td>1464</td>\n      <td>182265.908255</td>\n    </tr>\n    <tr>\n      <th>4</th>\n      <td>1465</td>\n      <td>203580.436097</td>\n    </tr>\n    <tr>\n      <th>...</th>\n      <td>...</td>\n      <td>...</td>\n    </tr>\n    <tr>\n      <th>1454</th>\n      <td>2915</td>\n      <td>86002.733050</td>\n    </tr>\n    <tr>\n      <th>1455</th>\n      <td>2916</td>\n      <td>80594.335407</td>\n    </tr>\n    <tr>\n      <th>1456</th>\n      <td>2917</td>\n      <td>170026.175704</td>\n    </tr>\n    <tr>\n      <th>1457</th>\n      <td>2918</td>\n      <td>122693.529205</td>\n    </tr>\n    <tr>\n      <th>1458</th>\n      <td>2919</td>\n      <td>225842.466854</td>\n    </tr>\n  </tbody>\n</table>\n<p>1459 rows × 2 columns</p>\n</div>"
     },
     "execution_count": 56,
     "metadata": {},
     "output_type": "execute_result"
    }
   ],
   "source": [
    "# Record predictions for the test set\n",
    "test = pd.read_csv('../data/test_enc.csv')\n",
    "test_predictions = gbr_model.predict(test)\n",
    "\n",
    "# add the Id column to the predictions\n",
    "df_test = pd.read_csv('../data/test.csv')\n",
    "test_predictions = pd.DataFrame({'Id': df_test['Id'], 'SalePrice': test_predictions})\n",
    "\n",
    "# Save the predictions to a CSV file\n",
    "# test_predictions.to_csv('../gbr_test_predictions.csv', index=False)\n",
    "\n",
    "test_predictions"
   ],
   "metadata": {
    "collapsed": false,
    "ExecuteTime": {
     "end_time": "2024-03-11T21:03:55.828666Z",
     "start_time": "2024-03-11T21:03:55.766010Z"
    }
   },
   "id": "2fc4a44f19429015",
   "execution_count": 56
  }
 ],
 "metadata": {
  "kernelspec": {
   "display_name": "Python 3",
   "language": "python",
   "name": "python3"
  },
  "language_info": {
   "codemirror_mode": {
    "name": "ipython",
    "version": 2
   },
   "file_extension": ".py",
   "mimetype": "text/x-python",
   "name": "python",
   "nbconvert_exporter": "python",
   "pygments_lexer": "ipython2",
   "version": "2.7.6"
  }
 },
 "nbformat": 4,
 "nbformat_minor": 5
}
