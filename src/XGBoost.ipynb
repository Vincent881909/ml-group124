{
 "cells": [
  {
   "cell_type": "code",
   "execution_count": 1,
   "id": "initial_id",
   "metadata": {
    "ExecuteTime": {
     "end_time": "2024-03-14T12:11:09.144700Z",
     "start_time": "2024-03-14T12:11:09.137605Z"
    },
    "collapsed": true
   },
   "outputs": [],
   "source": [
    "import xgboost as xgb\n",
    "from sklearn.model_selection import GridSearchCV, cross_val_score, train_test_split\n",
    "import numpy as np\n",
    "import pandas as pd"
   ]
  },
  {
   "cell_type": "code",
   "execution_count": 2,
   "id": "72a3b5bb",
   "metadata": {},
   "outputs": [],
   "source": [
    "df = pd.read_csv('../data/train_enc.csv')\n",
    "\n",
    "train, validation = train_test_split(df, test_size=0.2, random_state=200, shuffle=True)\n",
    "\n",
    "target = 'SalePrice'\n",
    "X_train = train.drop(target, axis=1)\n",
    "y_train = train[target]\n",
    "\n",
    "X_validation = validation.drop(target, axis=1)\n",
    "y_validation = validation[target]"
   ]
  },
  {
   "cell_type": "code",
   "execution_count": 3,
   "id": "9264eae2cedff0b7",
   "metadata": {
    "collapsed": false
   },
   "outputs": [
    {
     "name": "stdout",
     "output_type": "stream",
     "text": [
      "Best parameters:  {'learning_rate': 0.05, 'max_depth': 3, 'n_estimators': 300}\n",
      "Best score:  0.8791048409186314\n"
     ]
    }
   ],
   "source": [
    "# Grid Search\n",
    "\n",
    "param_grid_extended = {\n",
    "    'n_estimators': [100, 125, 150, 175, 200, 225, 250, 275, 300],\n",
    "    'learning_rate': [0.01, 0.05, 0.01, 0.5, 1],\n",
    "    'max_depth': [3, 5, 7]\n",
    "}\n",
    "\n",
    "grid_search = GridSearchCV(xgb.XGBRegressor(), param_grid_extended, cv=3, scoring='r2', return_train_score=True)\n",
    "\n",
    "# Fit the GridSearchCV\n",
    "grid_search.fit(X_train, y_train)\n",
    "\n",
    "# Save the best estimator\n",
    "gbr_model = grid_search.best_estimator_\n",
    "\n",
    "# Get the results of the grid search\n",
    "results = pd.DataFrame(grid_search.cv_results_)\n",
    "\n",
    "# Print the best parameters and corresponding score\n",
    "print(\"Best parameters: \", grid_search.best_params_)\n",
    "print(\"Best score: \", grid_search.best_score_)"
   ]
  },
  {
   "cell_type": "code",
   "execution_count": 11,
   "id": "830acbe8",
   "metadata": {},
   "outputs": [
    {
     "name": "stdout",
     "output_type": "stream",
     "text": [
      "Best parameters:  {'n_estimators': 610, 'max_depth': 3, 'learning_rate': 0.09}\n",
      "Best score:  0.8804541321842239\n"
     ]
    }
   ],
   "source": [
    "# Randomized Grid Search\n",
    "\n",
    "from sklearn.model_selection import RandomizedSearchCV\n",
    "import numpy as np\n",
    "\n",
    "param_dist = {\n",
    "    'n_estimators': np.arange(100, 801, 10),  # Vary from 100 to 500 in steps of 50\n",
    "    'learning_rate': np.linspace(0.01, 1, 100),\n",
    "    'max_depth': np.arange(3, 18, 1)  # Vary from 3 to 9\n",
    "}\n",
    "# Initialize the RandomizedSearchCV\n",
    "random_search = RandomizedSearchCV(xgb.XGBRegressor(), param_distributions=param_dist, n_iter=100, cv=3, scoring='r2', random_state=42, return_train_score=True, n_jobs=-1)\n",
    "\n",
    "# Fit the RandomizedSearchCV\n",
    "random_search.fit(X_train, y_train)\n",
    "\n",
    "# Save the best estimator\n",
    "xgb_model_random = random_search.best_estimator_\n",
    "\n",
    "# Get the results of the randomized search\n",
    "results_random = pd.DataFrame(random_search.cv_results_)\n",
    "\n",
    "# Print the best parameters and corresponding score\n",
    "print(\"Best parameters: \", random_search.best_params_)\n",
    "print(\"Best score: \", random_search.best_score_)"
   ]
  },
  {
   "cell_type": "markdown",
   "id": "b4682a58",
   "metadata": {},
   "source": [
    "Tried runnning RandomGridSearch in many variations and could not get a score over .89."
   ]
  }
 ],
 "metadata": {
  "kernelspec": {
   "display_name": "Python 3",
   "language": "python",
   "name": "python3"
  },
  "language_info": {
   "codemirror_mode": {
    "name": "ipython",
    "version": 3
   },
   "file_extension": ".py",
   "mimetype": "text/x-python",
   "name": "python",
   "nbconvert_exporter": "python",
   "pygments_lexer": "ipython3",
   "version": "3.9.6"
  }
 },
 "nbformat": 4,
 "nbformat_minor": 5
}
