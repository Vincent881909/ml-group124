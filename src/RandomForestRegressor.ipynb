{
 "cells": [
  {
   "cell_type": "code",
   "execution_count": 2,
   "id": "initial_id",
   "metadata": {
    "collapsed": true,
    "ExecuteTime": {
     "end_time": "2024-03-14T19:03:36.662847Z",
     "start_time": "2024-03-14T19:03:35.807564Z"
    }
   },
   "outputs": [],
   "source": [
    "import pandas as pd\n",
    "from sklearn.ensemble import RandomForestRegressor\n",
    "from sklearn.metrics import r2_score\n",
    "from sklearn.model_selection import train_test_split\n",
    "import seaborn as sns\n",
    "import matplotlib.pyplot as plt"
   ]
  },
  {
   "cell_type": "code",
   "outputs": [],
   "source": [
    "# Load the data\n",
    "df = pd.read_csv('../data/train_enc.csv')"
   ],
   "metadata": {
    "collapsed": false,
    "ExecuteTime": {
     "end_time": "2024-03-14T19:03:36.998896Z",
     "start_time": "2024-03-14T19:03:36.937287Z"
    }
   },
   "id": "729b82b0b9c75e9b",
   "execution_count": 3
  },
  {
   "cell_type": "code",
   "outputs": [],
   "source": [
    "# Split the data into training and validation sets\n",
    "train, validation = train_test_split(df, test_size=0.2, random_state=200, shuffle=True)\n",
    "\n",
    "print(train.shape)\n",
    "print(validation.shape)"
   ],
   "metadata": {
    "collapsed": false
   },
   "id": "391c801043f681d6",
   "execution_count": null
  },
  {
   "cell_type": "code",
   "outputs": [],
   "source": [
    "# split the columns into features and target; ie x y split\n",
    "target = 'SalePrice'\n",
    "X_train = train.drop(target, axis=1)\n",
    "y_train = train[target]\n",
    "\n",
    "X_validation = validation.drop(target, axis=1)\n",
    "y_validation = validation[target]\n",
    "\n",
    "X_train.shape, y_train.shape, X_validation.shape, y_validation.shape"
   ],
   "metadata": {
    "collapsed": false
   },
   "id": "c3998e93ba67f477",
   "execution_count": null
  },
  {
   "cell_type": "markdown",
   "source": [
    "## Hyperparameter Tuning using Manual Search ie Trial and Error"
   ],
   "metadata": {
    "collapsed": false
   },
   "id": "79708df559fceb83"
  },
  {
   "cell_type": "code",
   "outputs": [
    {
     "name": "stdout",
     "output_type": "stream",
     "text": [
      "n_estimators: 50, max_depth: 5, r2_score: 0.6688794568934153\n",
      "n_estimators: 50, max_depth: 10, r2_score: 0.7239475400010023\n",
      "n_estimators: 50, max_depth: 15, r2_score: 0.7086883965670808\n",
      "n_estimators: 50, max_depth: 20, r2_score: 0.7219235564866203\n",
      "n_estimators: 100, max_depth: 5, r2_score: 0.6738239653414134\n",
      "n_estimators: 100, max_depth: 10, r2_score: 0.7179558165378939\n",
      "n_estimators: 100, max_depth: 15, r2_score: 0.7110622744020738\n",
      "n_estimators: 100, max_depth: 20, r2_score: 0.7185567051727978\n",
      "n_estimators: 150, max_depth: 5, r2_score: 0.6841076076028471\n",
      "n_estimators: 150, max_depth: 10, r2_score: 0.7152437163189057\n",
      "n_estimators: 150, max_depth: 15, r2_score: 0.7205915018665889\n",
      "n_estimators: 150, max_depth: 20, r2_score: 0.7064201525561701\n",
      "n_estimators: 200, max_depth: 5, r2_score: 0.6943676734710327\n",
      "n_estimators: 200, max_depth: 10, r2_score: 0.72397031333554\n",
      "n_estimators: 200, max_depth: 15, r2_score: 0.7132250429688642\n",
      "n_estimators: 200, max_depth: 20, r2_score: 0.7153459207535902\n"
     ]
    }
   ],
   "source": [
    "# Define the hyperparameters to try\n",
    "n_estimators_options = [50, 100, 150, 200]\n",
    "max_depth_options = [5, 10, 15, 20]\n",
    "\n",
    "# Initialize a dictionary to store the r2 scores\n",
    "scores = {}\n",
    "\n",
    "# Loop over the hyperparameters\n",
    "for n_estimators in n_estimators_options:\n",
    "    for max_depth in max_depth_options:\n",
    "        # Create the model with the current hyperparameters\n",
    "        rfr_model = RandomForestRegressor(n_estimators=n_estimators, max_depth=max_depth)\n",
    "        \n",
    "        # Fit the model\n",
    "        rfr_model.fit(X_train, y_train)\n",
    "\n",
    "        # Make predictions\n",
    "        validation_predictions = rfr_model.predict(X_validation)\n",
    "\n",
    "        # Calculate and print the r squared error\n",
    "        score = r2_score(y_validation, validation_predictions)\n",
    "        print(f'n_estimators: {n_estimators}, max_depth: {max_depth}, r2_score: {score}')\n",
    "        \n",
    "        # Store the r squared error in the dictionary\n",
    "        scores[(n_estimators, max_depth)] = score"
   ],
   "metadata": {
    "collapsed": false,
    "ExecuteTime": {
     "end_time": "2024-03-11T20:40:19.948787Z",
     "start_time": "2024-03-11T20:39:55.129354Z"
    }
   },
   "id": "a845e67f7f6b7d40",
   "execution_count": 69
  },
  {
   "cell_type": "code",
   "outputs": [
    {
     "data": {
      "text/plain": "    r2_score  n_estimators  max_depth\n0   0.668879            50          5\n1   0.723948            50         10\n2   0.708688            50         15\n3   0.721924            50         20\n4   0.673824           100          5\n5   0.717956           100         10\n6   0.711062           100         15\n7   0.718557           100         20\n8   0.684108           150          5\n9   0.715244           150         10\n10  0.720592           150         15\n11  0.706420           150         20\n12  0.694368           200          5\n13  0.723970           200         10\n14  0.713225           200         15\n15  0.715346           200         20",
      "text/html": "<div>\n<style scoped>\n    .dataframe tbody tr th:only-of-type {\n        vertical-align: middle;\n    }\n\n    .dataframe tbody tr th {\n        vertical-align: top;\n    }\n\n    .dataframe thead th {\n        text-align: right;\n    }\n</style>\n<table border=\"1\" class=\"dataframe\">\n  <thead>\n    <tr style=\"text-align: right;\">\n      <th></th>\n      <th>r2_score</th>\n      <th>n_estimators</th>\n      <th>max_depth</th>\n    </tr>\n  </thead>\n  <tbody>\n    <tr>\n      <th>0</th>\n      <td>0.668879</td>\n      <td>50</td>\n      <td>5</td>\n    </tr>\n    <tr>\n      <th>1</th>\n      <td>0.723948</td>\n      <td>50</td>\n      <td>10</td>\n    </tr>\n    <tr>\n      <th>2</th>\n      <td>0.708688</td>\n      <td>50</td>\n      <td>15</td>\n    </tr>\n    <tr>\n      <th>3</th>\n      <td>0.721924</td>\n      <td>50</td>\n      <td>20</td>\n    </tr>\n    <tr>\n      <th>4</th>\n      <td>0.673824</td>\n      <td>100</td>\n      <td>5</td>\n    </tr>\n    <tr>\n      <th>5</th>\n      <td>0.717956</td>\n      <td>100</td>\n      <td>10</td>\n    </tr>\n    <tr>\n      <th>6</th>\n      <td>0.711062</td>\n      <td>100</td>\n      <td>15</td>\n    </tr>\n    <tr>\n      <th>7</th>\n      <td>0.718557</td>\n      <td>100</td>\n      <td>20</td>\n    </tr>\n    <tr>\n      <th>8</th>\n      <td>0.684108</td>\n      <td>150</td>\n      <td>5</td>\n    </tr>\n    <tr>\n      <th>9</th>\n      <td>0.715244</td>\n      <td>150</td>\n      <td>10</td>\n    </tr>\n    <tr>\n      <th>10</th>\n      <td>0.720592</td>\n      <td>150</td>\n      <td>15</td>\n    </tr>\n    <tr>\n      <th>11</th>\n      <td>0.706420</td>\n      <td>150</td>\n      <td>20</td>\n    </tr>\n    <tr>\n      <th>12</th>\n      <td>0.694368</td>\n      <td>200</td>\n      <td>5</td>\n    </tr>\n    <tr>\n      <th>13</th>\n      <td>0.723970</td>\n      <td>200</td>\n      <td>10</td>\n    </tr>\n    <tr>\n      <th>14</th>\n      <td>0.713225</td>\n      <td>200</td>\n      <td>15</td>\n    </tr>\n    <tr>\n      <th>15</th>\n      <td>0.715346</td>\n      <td>200</td>\n      <td>20</td>\n    </tr>\n  </tbody>\n</table>\n</div>"
     },
     "execution_count": 70,
     "metadata": {},
     "output_type": "execute_result"
    }
   ],
   "source": [
    "# Convert the dictionary to a DataFrame\n",
    "df_scores = pd.DataFrame(list(scores.items()), columns=['Tuple', 'r2_score'])\n",
    "\n",
    "# Split the 'Tuple' column into two separate columns\n",
    "df_scores[['n_estimators', 'max_depth']] = pd.DataFrame(df_scores['Tuple'].tolist(), index=df_scores.index)\n",
    "\n",
    "# Drop the original 'Tuple' column\n",
    "df_scores.drop(columns=['Tuple'], inplace=True)\n",
    "\n",
    "# Display the DataFrame\n",
    "df_scores"
   ],
   "metadata": {
    "collapsed": false,
    "ExecuteTime": {
     "end_time": "2024-03-11T20:40:50.304699Z",
     "start_time": "2024-03-11T20:40:50.291967Z"
    }
   },
   "id": "a47cd9ac2e8dad53",
   "execution_count": 70
  },
  {
   "cell_type": "code",
   "outputs": [
    {
     "data": {
      "text/plain": "<Figure size 720x432 with 2 Axes>",
      "image/png": "[encoded data removed]"
     },
     "metadata": {},
     "output_type": "display_data"
    }
   ],
   "source": [
    "# Plot the r2 scores\n",
    "fig, ax = plt.subplots(figsize=(10, 6))\n",
    "sns.heatmap(df_scores.pivot('n_estimators', 'max_depth', 'r2_score'), annot=True, fmt='.3f', cmap='coolwarm', ax=ax)\n",
    "ax.set_title('R2 Score Heatmap')\n",
    "plt.show()"
   ],
   "metadata": {
    "collapsed": false,
    "ExecuteTime": {
     "end_time": "2024-03-11T20:40:58.862373Z",
     "start_time": "2024-03-11T20:40:58.733659Z"
    }
   },
   "id": "8f86a03e22e5b758",
   "execution_count": 71
  },
  {
   "cell_type": "markdown",
   "source": [
    "##### Scores are terrible. Going to try different hyperparameters."
   ],
   "metadata": {
    "collapsed": false
   },
   "id": "73e35c137b493f21"
  },
  {
   "cell_type": "markdown",
   "source": [
    "## Trying Grid Search for a more systematic approach"
   ],
   "metadata": {
    "collapsed": false
   },
   "id": "f436602e89b4cb33"
  },
  {
   "cell_type": "code",
   "outputs": [],
   "source": [
    "from sklearn.model_selection import GridSearchCV\n",
    "\n",
    "# Define the hyperparameters to try\n",
    "param_grid = {\n",
    "    'n_estimators': [50, 100, 150, 200],\n",
    "    'max_depth': [5, 10, 15, 20]\n",
    "}\n",
    "\n",
    "# Create the model\n",
    "rfr_model = RandomForestRegressor()\n",
    "\n",
    "# Create the grid search object\n",
    "grid_search = GridSearchCV(estimator=rfr_model, param_grid=param_grid, cv=5, scoring='r2')\n",
    "\n",
    "# Fit the grid search object to the data\n",
    "grid_search.fit(X_train, y_train)\n",
    "\n",
    "# Get the best hyperparameters\n",
    "best_hyperparameters = grid_search.best_params_\n",
    "\n",
    "# Get the best score\n",
    "best_score = grid_search.best_score_\n",
    "\n",
    "print(f'Best hyperparameters: {best_hyperparameters}, Best r2 score: {best_score}')"
   ],
   "metadata": {
    "collapsed": false
   },
   "id": "2937f867e747899e",
   "execution_count": null
  },
  {
   "cell_type": "markdown",
   "source": [
    "##### Grid Search Results -> Best hyperparameters: {'max_depth': 10, 'n_estimators': 150}, Best r2 score: 0.8635347858325373. Different from manual search."
   ],
   "metadata": {
    "collapsed": false
   },
   "id": "e12f0c83edffcfba"
  },
  {
   "cell_type": "markdown",
   "source": [
    "Running the model with the best hyperparameters multiple times to check for consistency."
   ],
   "metadata": {
    "collapsed": false
   },
   "id": "6c0d66a056c5923b"
  },
  {
   "cell_type": "code",
   "outputs": [
    {
     "name": "stdout",
     "output_type": "stream",
     "text": [
      "0.8173407910793228\n",
      "0.8809145860105032\n",
      "0.8527714165774962\n",
      "0.7956468696165746\n",
      "0.8483092439303945\n",
      "0.8321490775241195\n",
      "0.8073666744535695\n",
      "0.8738879779580586\n",
      "0.7890464808424689\n",
      "0.8579544290795308\n",
      "0.8373718538517235\n",
      "0.8086899050485232\n",
      "0.8084822156037306\n",
      "0.6707515045138317\n",
      "0.8424849569958671\n",
      "0.8645715690598279\n",
      "0.7235618940782845\n",
      "0.8439513863342938\n",
      "0.8794125991502914\n",
      "0.6843555068654472\n"
     ]
    }
   ],
   "source": [
    "# Create the model with the best hyperparameters\n",
    "rfr_model = RandomForestRegressor(n_estimators=150, max_depth=5)\n",
    "\n",
    "#run the model 20 times and plot the r2 scores\n",
    "r2_scores = []\n",
    "for i in range(20):\n",
    "    train, validation = train_test_split(df, test_size=0.2, random_state=i, shuffle=True)\n",
    "    target = 'SalePrice'\n",
    "    X_train = train.drop(target, axis=1)\n",
    "    y_train = train[target]\n",
    "    \n",
    "    X_validation = validation.drop(target, axis=1)\n",
    "    y_validation = validation[target]\n",
    "    \n",
    "    # Fit the model\n",
    "    rfr_model.fit(X_train, y_train)\n",
    "\n",
    "    # Make predictions\n",
    "    validation_predictions = rfr_model.predict(X_validation)\n",
    "\n",
    "    # Calculate and print the r squared error\n",
    "    score = r2_score(y_validation, validation_predictions)\n",
    "    print(score)\n",
    "    r2_scores.append(score)"
   ],
   "metadata": {
    "collapsed": false,
    "ExecuteTime": {
     "end_time": "2024-03-14T19:04:15.679676Z",
     "start_time": "2024-03-14T19:03:45.531990Z"
    }
   },
   "id": "2b26984602a5fff7",
   "execution_count": 4
  },
  {
   "cell_type": "code",
   "outputs": [
    {
     "data": {
      "text/plain": "<Figure size 720x432 with 1 Axes>",
      "image/png": "[encoded data removed]"
     },
     "metadata": {},
     "output_type": "display_data"
    }
   ],
   "source": [
    " # Plot the r2 scores to show consistency\n",
    "fig, ax = plt.subplots(figsize=(10, 6))\n",
    "sns.lineplot(x=range(20), y=r2_scores, ax=ax)\n",
    "ax.set_title('R2 Score Lineplot')\n",
    "ax.set_ylim(0.65, 0.95)\n",
    "ax.set_xticks(range(0, 21, 2))\n",
    "plt.show()"
   ],
   "metadata": {
    "collapsed": false,
    "ExecuteTime": {
     "end_time": "2024-03-11T20:45:06.879787Z",
     "start_time": "2024-03-11T20:45:06.755679Z"
    }
   },
   "id": "df6cbc4ffbb1f753",
   "execution_count": 74
  },
  {
   "cell_type": "markdown",
   "source": [
    "##### The r2 scores are consistent, except for some outliers. This means the hyperparameters are stable and the model is consistent."
   ],
   "metadata": {
    "collapsed": false
   },
   "id": "20a97c4ce4bc4f1"
  },
  {
   "cell_type": "markdown",
   "source": [
    "## Submission to Kaggle"
   ],
   "metadata": {
    "collapsed": false
   },
   "id": "a904cef16750d66c"
  },
  {
   "cell_type": "code",
   "outputs": [
    {
     "data": {
      "text/plain": "        Id      SalePrice\n0     1461  125768.834992\n1     1462  154891.098734\n2     1463  185193.770649\n3     1464  184072.344910\n4     1465  209211.151799\n...    ...            ...\n1454  2915   87637.333060\n1455  2916   85452.827470\n1456  2917  147949.328049\n1457  2918  115232.728664\n1458  2919  221033.376209\n\n[1459 rows x 2 columns]",
      "text/html": "<div>\n<style scoped>\n    .dataframe tbody tr th:only-of-type {\n        vertical-align: middle;\n    }\n\n    .dataframe tbody tr th {\n        vertical-align: top;\n    }\n\n    .dataframe thead th {\n        text-align: right;\n    }\n</style>\n<table border=\"1\" class=\"dataframe\">\n  <thead>\n    <tr style=\"text-align: right;\">\n      <th></th>\n      <th>Id</th>\n      <th>SalePrice</th>\n    </tr>\n  </thead>\n  <tbody>\n    <tr>\n      <th>0</th>\n      <td>1461</td>\n      <td>125768.834992</td>\n    </tr>\n    <tr>\n      <th>1</th>\n      <td>1462</td>\n      <td>154891.098734</td>\n    </tr>\n    <tr>\n      <th>2</th>\n      <td>1463</td>\n      <td>185193.770649</td>\n    </tr>\n    <tr>\n      <th>3</th>\n      <td>1464</td>\n      <td>184072.344910</td>\n    </tr>\n    <tr>\n      <th>4</th>\n      <td>1465</td>\n      <td>209211.151799</td>\n    </tr>\n    <tr>\n      <th>...</th>\n      <td>...</td>\n      <td>...</td>\n    </tr>\n    <tr>\n      <th>1454</th>\n      <td>2915</td>\n      <td>87637.333060</td>\n    </tr>\n    <tr>\n      <th>1455</th>\n      <td>2916</td>\n      <td>85452.827470</td>\n    </tr>\n    <tr>\n      <th>1456</th>\n      <td>2917</td>\n      <td>147949.328049</td>\n    </tr>\n    <tr>\n      <th>1457</th>\n      <td>2918</td>\n      <td>115232.728664</td>\n    </tr>\n    <tr>\n      <th>1458</th>\n      <td>2919</td>\n      <td>221033.376209</td>\n    </tr>\n  </tbody>\n</table>\n<p>1459 rows × 2 columns</p>\n</div>"
     },
     "execution_count": 79,
     "metadata": {},
     "output_type": "execute_result"
    }
   ],
   "source": [
    "# Record predictions for the test set\n",
    "test = pd.read_csv('../data/test_enc.csv')\n",
    "test_predictions = rfr_model.predict(test)\n",
    "\n",
    "# add the Id column to the predictions\n",
    "df_test = pd.read_csv('../data/test.csv')\n",
    "test_predictions = pd.DataFrame({'Id': df_test['Id'], 'SalePrice': test_predictions})\n",
    "\n",
    "# Save the predictions to a CSV file\n",
    "test_predictions.to_csv('../rfr_test_predictions.csv', index=False)\n",
    "\n",
    "test_predictions"
   ],
   "metadata": {
    "collapsed": false,
    "ExecuteTime": {
     "end_time": "2024-03-11T21:11:46.956036Z",
     "start_time": "2024-03-11T21:11:46.861846Z"
    }
   },
   "id": "464fcfe8adb9c42b",
   "execution_count": 79
  },
  {
   "cell_type": "code",
   "outputs": [],
   "source": [],
   "metadata": {
    "collapsed": false
   },
   "id": "44e7f93c0ca8e65d"
  }
 ],
 "metadata": {
  "kernelspec": {
   "display_name": "Python 3",
   "language": "python",
   "name": "python3"
  },
  "language_info": {
   "codemirror_mode": {
    "name": "ipython",
    "version": 2
   },
   "file_extension": ".py",
   "mimetype": "text/x-python",
   "name": "python",
   "nbconvert_exporter": "python",
   "pygments_lexer": "ipython2",
   "version": "2.7.6"
  }
 },
 "nbformat": 4,
 "nbformat_minor": 5
}
