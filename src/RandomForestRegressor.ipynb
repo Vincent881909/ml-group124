{
 "cells": [
  {
   "cell_type": "code",
   "execution_count": 50,
   "id": "initial_id",
   "metadata": {
    "collapsed": true,
    "ExecuteTime": {
     "end_time": "2024-03-11T13:55:21.679351Z",
     "start_time": "2024-03-11T13:55:21.675604Z"
    }
   },
   "outputs": [],
   "source": [
    "import pandas as pd\n",
    "import numpy as np\n",
    "from sklearn.ensemble import RandomForestRegressor\n",
    "from sklearn.metrics import r2_score\n",
    "import seaborn as sns\n",
    "import matplotlib.pyplot as plt"
   ]
  },
  {
   "cell_type": "code",
   "outputs": [],
   "source": [
    "# Load the data\n",
    "df = pd.read_csv('../data/train_enc.csv')"
   ],
   "metadata": {
    "collapsed": false
   },
   "id": "729b82b0b9c75e9b",
   "execution_count": null
  },
  {
   "cell_type": "code",
   "outputs": [],
   "source": [
    "# Split the data into training and validation sets\n",
    "train = df.sample(frac=0.8, random_state=200)\n",
    "validation = df.drop(train.index)\n",
    "\n",
    "print(train.shape)\n",
    "print(validation.shape)"
   ],
   "metadata": {
    "collapsed": false
   },
   "id": "391c801043f681d6",
   "execution_count": null
  },
  {
   "cell_type": "code",
   "outputs": [],
   "source": [
    "# split the columns into features and target; ie x y split\n",
    "target = 'SalePrice'\n",
    "train_x = train.drop(target, axis=1)\n",
    "train_y = train[target]\n",
    "\n",
    "validation_x = validation.drop(target, axis=1)\n",
    "validation_y = validation[target]\n",
    "\n",
    "train_x.shape, train_y.shape, validation_x.shape, validation_y.shape"
   ],
   "metadata": {
    "collapsed": false
   },
   "id": "c3998e93ba67f477",
   "execution_count": null
  },
  {
   "cell_type": "markdown",
   "source": [
    "## Hyperparameter Tuning using Manual Search ie Trial and Error"
   ],
   "metadata": {
    "collapsed": false
   },
   "id": "79708df559fceb83"
  },
  {
   "cell_type": "code",
   "outputs": [],
   "source": [
    "# Define the hyperparameters to try\n",
    "n_estimators_options = [50, 100, 150, 200]\n",
    "max_depth_options = [5, 10, 15, 20]\n",
    "\n",
    "# Initialize a dictionary to store the r2 scores\n",
    "scores = {}\n",
    "\n",
    "# Loop over the hyperparameters\n",
    "for n_estimators in n_estimators_options:\n",
    "    for max_depth in max_depth_options:\n",
    "        # Create the model with the current hyperparameters\n",
    "        rfr_model = RandomForestRegressor(n_estimators=n_estimators, max_depth=max_depth)\n",
    "\n",
    "        # Fit the model\n",
    "        rfr_model.fit(train_x, train_y)\n",
    "\n",
    "        # Make predictions\n",
    "        validation_predictions = rfr_model.predict(validation_x)\n",
    "\n",
    "        # Calculate and print the r squared error\n",
    "        score = r2_score(validation_y, validation_predictions)\n",
    "        print(f'n_estimators: {n_estimators}, max_depth: {max_depth}, r2_score: {score}')\n",
    "        \n",
    "        # Store the r squared error in the dictionary\n",
    "        scores[(n_estimators, max_depth)] = score"
   ],
   "metadata": {
    "collapsed": false
   },
   "id": "a845e67f7f6b7d40",
   "execution_count": null
  },
  {
   "cell_type": "code",
   "outputs": [],
   "source": [
    "# Convert the dictionary to a DataFrame\n",
    "df_scores = pd.DataFrame(list(scores.items()), columns=['Tuple', 'r2_score'])\n",
    "\n",
    "# Split the 'Tuple' column into two separate columns\n",
    "df_scores[['n_estimators', 'max_depth']] = pd.DataFrame(df_scores['Tuple'].tolist(), index=df_scores.index)\n",
    "\n",
    "# Drop the original 'Tuple' column\n",
    "df_scores.drop(columns=['Tuple'], inplace=True)\n",
    "\n",
    "# Display the DataFrame\n",
    "df_scores"
   ],
   "metadata": {
    "collapsed": false
   },
   "id": "a47cd9ac2e8dad53",
   "execution_count": null
  },
  {
   "cell_type": "code",
   "outputs": [
    {
     "data": {
      "text/plain": "<Figure size 720x432 with 2 Axes>",
      "image/png": "[encoded data removed]"
     },
     "metadata": {
      "needs_background": "light"
     },
     "output_type": "display_data"
    }
   ],
   "source": [
    "# Plot the r2 scores\n",
    "fig, ax = plt.subplots(figsize=(10, 6))\n",
    "sns.heatmap(df_scores.pivot('n_estimators', 'max_depth', 'r2_score'), annot=True, fmt='.3f', cmap='coolwarm', ax=ax)\n",
    "ax.set_title('R2 Score Heatmap')\n",
    "plt.show()"
   ],
   "metadata": {
    "collapsed": false,
    "ExecuteTime": {
     "end_time": "2024-03-11T13:44:21.710367Z",
     "start_time": "2024-03-11T13:44:21.556271Z"
    }
   },
   "id": "8f86a03e22e5b758",
   "execution_count": 32
  },
  {
   "cell_type": "markdown",
   "source": [
    "The best hyperparameters are n_estimators=150 and max_depth=20"
   ],
   "metadata": {
    "collapsed": false
   },
   "id": "23e20074e430e7b"
  },
  {
   "cell_type": "markdown",
   "source": [
    "## Trying Grid Search for a more systematic approach"
   ],
   "metadata": {
    "collapsed": false
   },
   "id": "f436602e89b4cb33"
  },
  {
   "cell_type": "code",
   "outputs": [],
   "source": [
    "from sklearn.model_selection import GridSearchCV\n",
    "\n",
    "# Define the hyperparameters to try\n",
    "param_grid = {\n",
    "    'n_estimators': [50, 100, 150, 200],\n",
    "    'max_depth': [5, 10, 15, 20]\n",
    "}\n",
    "\n",
    "# Create the model\n",
    "rfr_model = RandomForestRegressor()\n",
    "\n",
    "# Create the grid search object\n",
    "grid_search = GridSearchCV(estimator=rfr_model, param_grid=param_grid, cv=5, scoring='r2')\n",
    "\n",
    "# Fit the grid search object to the data\n",
    "grid_search.fit(train_x, train_y)\n",
    "\n",
    "# Get the best hyperparameters\n",
    "best_hyperparameters = grid_search.best_params_\n",
    "\n",
    "# Get the best score\n",
    "best_score = grid_search.best_score_\n",
    "\n",
    "print(f'Best hyperparameters: {best_hyperparameters}, Best r2 score: {best_score}')"
   ],
   "metadata": {
    "collapsed": false
   },
   "id": "2937f867e747899e",
   "execution_count": null
  },
  {
   "cell_type": "markdown",
   "source": [
    "Grid Search produced different results. According to it, max_depth=15 and n_estimators=100 are the best hyperparameters with a r2 score of 0.85. I got 0.89 r2 score with n_estimators=150 and max_depth=20 with manual search. \n",
    "\n",
    "Going to repeat the process with the best hyperparameters 20 times from the manual search to see if it is consistent."
   ],
   "metadata": {
    "collapsed": false
   },
   "id": "6c0d66a056c5923b"
  },
  {
   "cell_type": "code",
   "outputs": [],
   "source": [
    "# Create the model with the best hyperparameters\n",
    "rfr_model = RandomForestRegressor(n_estimators=150, max_depth=20)\n",
    "\n",
    "#run the model 20 times and plot the r2 scores\n",
    "r2_scores = []\n",
    "for i in range(20):\n",
    "    # Fit the model\n",
    "    rfr_model.fit(train_x, train_y)\n",
    "\n",
    "    # Make predictions\n",
    "    validation_predictions = rfr_model.predict(validation_x)\n",
    "\n",
    "    # Calculate and print the r squared error\n",
    "    score = r2_score(validation_y, validation_predictions)\n",
    "    print(score)\n",
    "    r2_scores.append(score)"
   ],
   "metadata": {
    "collapsed": false
   },
   "id": "2b26984602a5fff7",
   "execution_count": null
  },
  {
   "cell_type": "code",
   "outputs": [
    {
     "data": {
      "text/plain": "<Figure size 720x432 with 1 Axes>",
      "image/png": "[encoded data removed]"
     },
     "metadata": {
      "needs_background": "light"
     },
     "output_type": "display_data"
    }
   ],
   "source": [
    "# Plot the r2 scores to show consistency\n",
    "fig, ax = plt.subplots(figsize=(10, 6))\n",
    "sns.lineplot(x=range(20), y=r2_scores, ax=ax)\n",
    "ax.set_title('R2 Score Lineplot')\n",
    "ax.set_ylim(0.75, 0.95)\n",
    "ax.set_xticks(range(0, 21, 2))\n",
    "ax.set_yticks(np.arange(0.75, 1.0, 0.03))\n",
    "plt.show()"
   ],
   "metadata": {
    "collapsed": false,
    "ExecuteTime": {
     "end_time": "2024-03-11T13:57:11.891695Z",
     "start_time": "2024-03-11T13:57:11.787974Z"
    }
   },
   "id": "df6cbc4ffbb1f753",
   "execution_count": 58
  },
  {
   "cell_type": "markdown",
   "source": [
    "#### The r2 scores are consistent, hovering around 0.88-0.89. This means the hyperparameters are stable and the model is consistent."
   ],
   "metadata": {
    "collapsed": false
   },
   "id": "20a97c4ce4bc4f1"
  }
 ],
 "metadata": {
  "kernelspec": {
   "display_name": "Python 3",
   "language": "python",
   "name": "python3"
  },
  "language_info": {
   "codemirror_mode": {
    "name": "ipython",
    "version": 2
   },
   "file_extension": ".py",
   "mimetype": "text/x-python",
   "name": "python",
   "nbconvert_exporter": "python",
   "pygments_lexer": "ipython2",
   "version": "2.7.6"
  }
 },
 "nbformat": 4,
 "nbformat_minor": 5
}
