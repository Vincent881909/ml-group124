{
 "cells": [
  {
   "cell_type": "code",
   "execution_count": 10,
   "id": "83d5475fd0dc4f41",
   "metadata": {
    "collapsed": false,
    "ExecuteTime": {
     "end_time": "2024-03-14T11:38:50.922124Z",
     "start_time": "2024-03-14T11:38:50.909439Z"
    }
   },
   "outputs": [
    {
     "ename": "ModuleNotFoundError",
     "evalue": "No module named 'xgboost'",
     "output_type": "error",
     "traceback": [
      "\u001B[0;31m---------------------------------------------------------------------------\u001B[0m",
      "\u001B[0;31mModuleNotFoundError\u001B[0m                       Traceback (most recent call last)",
      "\u001B[0;32m<ipython-input-10-ef1049765499>\u001B[0m in \u001B[0;36m<module>\u001B[0;34m\u001B[0m\n\u001B[1;32m      1\u001B[0m \u001B[0;32mimport\u001B[0m \u001B[0mpandas\u001B[0m \u001B[0;32mas\u001B[0m \u001B[0mpd\u001B[0m\u001B[0;34m\u001B[0m\u001B[0;34m\u001B[0m\u001B[0m\n\u001B[0;32m----> 2\u001B[0;31m \u001B[0;32mimport\u001B[0m \u001B[0mxgboost\u001B[0m \u001B[0;32mas\u001B[0m \u001B[0mxgb\u001B[0m\u001B[0;34m\u001B[0m\u001B[0;34m\u001B[0m\u001B[0m\n\u001B[0m\u001B[1;32m      3\u001B[0m \u001B[0;34m\u001B[0m\u001B[0m\n\u001B[1;32m      4\u001B[0m \u001B[0mdf\u001B[0m \u001B[0;34m=\u001B[0m \u001B[0mpd\u001B[0m\u001B[0;34m.\u001B[0m\u001B[0mread_csv\u001B[0m\u001B[0;34m(\u001B[0m\u001B[0;34m'../data/train.csv'\u001B[0m\u001B[0;34m)\u001B[0m\u001B[0;34m\u001B[0m\u001B[0;34m\u001B[0m\u001B[0m\n\u001B[1;32m      5\u001B[0m \u001B[0mdf\u001B[0m \u001B[0;34m=\u001B[0m \u001B[0mdf\u001B[0m\u001B[0;34m.\u001B[0m\u001B[0mdrop\u001B[0m\u001B[0;34m(\u001B[0m\u001B[0mcolumns\u001B[0m\u001B[0;34m=\u001B[0m\u001B[0;34m[\u001B[0m\u001B[0;34m'Id'\u001B[0m\u001B[0;34m]\u001B[0m\u001B[0;34m)\u001B[0m\u001B[0;34m\u001B[0m\u001B[0;34m\u001B[0m\u001B[0m\n",
      "\u001B[0;31mModuleNotFoundError\u001B[0m: No module named 'xgboost'"
     ]
    }
   ],
   "source": [
    "import pandas as pd\n",
    "\n",
    "df = pd.read_csv('../data/train.csv')\n",
    "df = df.drop(columns=['Id'])"
   ]
  },
  {
   "cell_type": "code",
   "execution_count": 8,
   "id": "b0abe75c97d33a8",
   "metadata": {
    "collapsed": false,
    "ExecuteTime": {
     "end_time": "2024-03-14T11:38:37.975839Z",
     "start_time": "2024-03-14T11:38:37.972855Z"
    }
   },
   "outputs": [],
   "source": [
    "# df_num = df.select_dtypes(include = ['float64', 'int64'])\n",
    "# df = df_num[['LotArea','MasVnrArea','TotalBsmtSF','GrLivArea','GarageArea','WoodDeckSF','OpenPorchSF','EnclosedPorch','BsmtFullBath','BsmtHalfBath','FullBath','HalfBath','BedroomAbvGr','KitchenAbvGr','TotRmsAbvGrd','SalePrice']]\n",
    "# df = df.dropna()\n",
    "# df.head()"
   ]
  },
  {
   "cell_type": "code",
   "execution_count": 9,
   "id": "e4794a31902b61b6",
   "metadata": {
    "collapsed": false,
    "ExecuteTime": {
     "end_time": "2024-03-14T11:38:40.069671Z",
     "start_time": "2024-03-14T11:38:40.058115Z"
    }
   },
   "outputs": [
    {
     "name": "stdout",
     "output_type": "stream",
     "text": [
      "(1168, 80)\n",
      "(292, 80)\n"
     ]
    }
   ],
   "source": [
    "# split data set into train and validation\n",
    "train = df.sample(frac=0.8, random_state=200)\n",
    "validation = df.drop(train.index)\n",
    "\n",
    "print(train.shape)\n",
    "print(validation.shape)"
   ]
  },
  {
   "cell_type": "code",
   "execution_count": null,
   "id": "e28e40aea6d985b6",
   "metadata": {
    "collapsed": false
   },
   "outputs": [],
   "source": [
    "# split the columns into features and target; ie x y split\n",
    "\n",
    "target = 'SalePrice'\n",
    "train_x = train.drop(target, axis=1)\n",
    "train_y = train[target]\n",
    "\n",
    "validation_x = validation.drop(target, axis=1)\n",
    "validation_y = validation[target]\n",
    "\n",
    "train_x.head()"
   ]
  },
  {
   "cell_type": "code",
   "execution_count": null,
   "id": "f53fa05fa23e23ce",
   "metadata": {
    "collapsed": false
   },
   "outputs": [],
   "source": [
    "from sklearn.ensemble import RandomForestRegressor\n",
    "from sklearn.metrics import mean_squared_error\n",
    "\n",
    "# create the model\n",
    "rfr_model = RandomForestRegressor(n_estimators=100, max_depth=10)\n",
    "\n",
    "# fit the model\n",
    "rfr_model.fit(train_x, train_y)\n",
    "\n",
    "# make predictions\n",
    "validation_predictions = rfr_model.predict(validation_x)\n",
    "\n",
    "# print the mean squared error\n",
    "print(mean_squared_error(validation_y, validation_predictions))"
   ]
  },
  {
   "cell_type": "code",
   "execution_count": null,
   "id": "e25f7e69a734ea6e",
   "metadata": {
    "collapsed": false
   },
   "outputs": [],
   "source": [
    "from sklearn.metrics import r2_score\n",
    "\n",
    "print(r2_score(validation_y, validation_predictions))"
   ]
  },
  {
   "cell_type": "code",
   "execution_count": null,
   "id": "f3f86ae6a5046ea5",
   "metadata": {
    "collapsed": false
   },
   "outputs": [],
   "source": [
    "from sklearn.ensemble import GradientBoostingRegressor\n",
    "\n",
    "# create the model\n",
    "gbr_model = GradientBoostingRegressor(loss='squared_error')\n",
    "\n",
    "gbr_model.fit(train_x, train_y)\n",
    "\n",
    "print(gbr_model.score(validation_x, validation_y))"
   ]
  },
  {
   "cell_type": "code",
   "execution_count": null,
   "id": "27a66e0698ec383",
   "metadata": {
    "collapsed": false
   },
   "outputs": [],
   "source": [
    "import tensorflow_decision_forests as tfdf\n",
    "\n",
    "# Convert the dataset into a TensorFlow dataset\n",
    "train_ds = tfdf.keras.pd_dataframe_to_tf_dataset(train, label='SalePrice', task=tfdf.keras.Task.REGRESSION)\n",
    "validation_ds = tfdf.keras.pd_dataframe_to_tf_dataset(validation, label='SalePrice', task=tfdf.keras.Task.REGRESSION)\n",
    "\n",
    "\n",
    "# Train the model\n",
    "df_model = tfdf.keras.RandomForestModel(task=tfdf.keras.Task.REGRESSION)\n",
    "df_model.fit(train_ds,verbose=True)"
   ]
  },
  {
   "cell_type": "code",
   "execution_count": null,
   "id": "b465ffa08778f8b1",
   "metadata": {
    "collapsed": false
   },
   "outputs": [],
   "source": [
    "# print(df_model.summary())\n",
    "\n",
    "# Evaluate the model\n",
    "df_model.compile(metrics=[\"accuracy\"])\n",
    "evaluation = df_model.evaluate(train_ds)\n",
    "print(evaluation)\n",
    "\n"
   ]
  },
  {
   "cell_type": "code",
   "outputs": [
    {
     "ename": "ModuleNotFoundError",
     "evalue": "No module named 'xgboost'",
     "output_type": "error",
     "traceback": [
      "\u001B[0;31m---------------------------------------------------------------------------\u001B[0m",
      "\u001B[0;31mModuleNotFoundError\u001B[0m                       Traceback (most recent call last)",
      "\u001B[0;32m<ipython-input-5-a1d2d5c8e6d1>\u001B[0m in \u001B[0;36m<module>\u001B[0;34m\u001B[0m\n\u001B[0;32m----> 1\u001B[0;31m \u001B[0;32mfrom\u001B[0m \u001B[0mxgboost\u001B[0m \u001B[0;32mimport\u001B[0m \u001B[0mXGBRegressor\u001B[0m\u001B[0;34m\u001B[0m\u001B[0;34m\u001B[0m\u001B[0m\n\u001B[0m\u001B[1;32m      2\u001B[0m \u001B[0;34m\u001B[0m\u001B[0m\n\u001B[1;32m      3\u001B[0m \u001B[0;31m# create the model\u001B[0m\u001B[0;34m\u001B[0m\u001B[0;34m\u001B[0m\u001B[0;34m\u001B[0m\u001B[0m\n\u001B[1;32m      4\u001B[0m \u001B[0mxgb_model\u001B[0m \u001B[0;34m=\u001B[0m \u001B[0mXGBRegressor\u001B[0m\u001B[0;34m(\u001B[0m\u001B[0;34m)\u001B[0m\u001B[0;34m\u001B[0m\u001B[0;34m\u001B[0m\u001B[0m\n\u001B[1;32m      5\u001B[0m \u001B[0;34m\u001B[0m\u001B[0m\n",
      "\u001B[0;31mModuleNotFoundError\u001B[0m: No module named 'xgboost'"
     ]
    }
   ],
   "source": [
    "import xgboost as xgb\n",
    "\n",
    "# create the model\n",
    "xgb_model = xgb.XGBRegressor()\n",
    "\n",
    "# fit the model\n",
    "xgb_model.fit(train_x, train_y)\n",
    "\n",
    "# make predictions\n",
    "validation_predictions = xgb_model.predict(validation_x)\n",
    "\n",
    "# print the r2 score\n",
    "print(r2_score(validation_y, validation_predictions))"
   ],
   "metadata": {
    "collapsed": false,
    "ExecuteTime": {
     "end_time": "2024-03-14T11:38:01.950979Z",
     "start_time": "2024-03-14T11:38:01.939754Z"
    }
   },
   "id": "38645eca239677ff",
   "execution_count": 5
  },
  {
   "cell_type": "code",
   "outputs": [],
   "source": [],
   "metadata": {
    "collapsed": false
   },
   "id": "8e960be44b2b8119"
  }
 ],
 "metadata": {
  "kernelspec": {
   "display_name": "Python 3",
   "language": "python",
   "name": "python3"
  },
  "language_info": {
   "codemirror_mode": {
    "name": "ipython",
    "version": 3
   },
   "file_extension": ".py",
   "mimetype": "text/x-python",
   "name": "python",
   "nbconvert_exporter": "python",
   "pygments_lexer": "ipython3",
   "version": "3.9.6"
  }
 },
 "nbformat": 4,
 "nbformat_minor": 5
}
