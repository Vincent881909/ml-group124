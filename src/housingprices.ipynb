{
 "cells": [
  {
   "cell_type": "code",
   "execution_count": 10,
   "metadata": {},
   "outputs": [],
   "source": [
    "# Imports\n",
    "import pandas as pd\n",
    "import numpy as np\n",
    "import matplotlib.pyplot as plt\n",
    "from sklearn.impute import SimpleImputer\n",
    "from sklearn.model_selection import cross_validate\n",
    "from sklearn.pipeline import make_pipeline\n",
    "from sklearn.preprocessing import OneHotEncoder, OrdinalEncoder, StandardScaler\n",
    "from sklearn.linear_model import Ridge, RidgeCV\n",
    "from sklearn.model_selection import train_test_split\n",
    "from sklearn.metrics import r2_score\n",
    "\n"
   ]
  },
  {
   "cell_type": "code",
   "execution_count": 11,
   "metadata": {},
   "outputs": [],
   "source": [
    "df = pd.read_csv(\"../data/train.csv\")\n",
    "\n",
    "train, validation = train_test_split(df, test_size=0.2, random_state=200, shuffle=True)\n",
    "\n",
    "#X_train = df_train.drop(columns=[\"SalePrice\"])\n",
    "#y_train = df_train[\"SalePrice\"]"
   ]
  },
  {
   "cell_type": "code",
   "execution_count": 13,
   "metadata": {},
   "outputs": [
    {
     "name": "stdout",
     "output_type": "stream",
     "text": [
      "Use /var/folders/by/hxzzs0n96hv_9jkkt0cyhdq80000gn/T/tmp1gdodrrg as temporary training directory\n",
      "Reading training dataset...\n",
      "Training dataset read in 0:00:00.351072. Found 1168 examples.\n",
      "Training model...\n",
      "Model trained in 0:00:00.511504\n",
      "Compiling model...\n"
     ]
    },
    {
     "name": "stderr",
     "output_type": "stream",
     "text": [
      "[INFO 24-03-15 16:21:45.1339 CET kernel.cc:1233] Loading model from path /var/folders/by/hxzzs0n96hv_9jkkt0cyhdq80000gn/T/tmp1gdodrrg/model/ with prefix a6759dceee1642da\n",
      "[INFO 24-03-15 16:21:45.2557 CET decision_forest.cc:660] Model loaded with 300 root(s), 111010 node(s), and 76 input feature(s).\n",
      "[INFO 24-03-15 16:21:45.2557 CET abstract_model.cc:1344] Engine \"RandomForestOptPred\" built\n",
      "[INFO 24-03-15 16:21:45.2557 CET kernel.cc:1061] Use fast generic engine\n"
     ]
    },
    {
     "name": "stdout",
     "output_type": "stream",
     "text": [
      "WARNING:tensorflow:6 out of the last 6 calls to <function InferenceCoreModel.make_predict_function.<locals>.predict_function_trained at 0x2a4877040> triggered tf.function retracing. Tracing is expensive and the excessive number of tracings could be due to (1) creating @tf.function repeatedly in a loop, (2) passing tensors with different shapes, (3) passing Python objects instead of tensors. For (1), please define your @tf.function outside of the loop. For (2), @tf.function has reduce_retracing=True option that can avoid unnecessary retracing. For (3), please refer to https://www.tensorflow.org/guide/function#controlling_retracing and https://www.tensorflow.org/api_docs/python/tf/function for  more details.\n"
     ]
    },
    {
     "name": "stderr",
     "output_type": "stream",
     "text": [
      "WARNING:tensorflow:6 out of the last 6 calls to <function InferenceCoreModel.make_predict_function.<locals>.predict_function_trained at 0x2a4877040> triggered tf.function retracing. Tracing is expensive and the excessive number of tracings could be due to (1) creating @tf.function repeatedly in a loop, (2) passing tensors with different shapes, (3) passing Python objects instead of tensors. For (1), please define your @tf.function outside of the loop. For (2), @tf.function has reduce_retracing=True option that can avoid unnecessary retracing. For (3), please refer to https://www.tensorflow.org/guide/function#controlling_retracing and https://www.tensorflow.org/api_docs/python/tf/function for  more details.\n"
     ]
    },
    {
     "name": "stdout",
     "output_type": "stream",
     "text": [
      "Model compiled.\n",
      "1/1 [==============================] - 0s 84ms/step\n",
      "R-squared: 0.8555146612256113\n"
     ]
    }
   ],
   "source": [
    "# Load TF-DF\n",
    "import tensorflow_decision_forests as tfdf\n",
    "\n",
    "# Convert the dataset into a TensorFlow dataset.\n",
    "train_ds = tfdf.keras.pd_dataframe_to_tf_dataset(train, label=\"SalePrice\", task=tfdf.keras.Task.REGRESSION)\n",
    "validation_ds = tfdf.keras.pd_dataframe_to_tf_dataset(validation, label=\"SalePrice\", task=tfdf.keras.Task.REGRESSION)\n",
    "\n",
    "# Train a Random Forest model.\n",
    "model = tfdf.keras.RandomForestModel(task=tfdf.keras.Task.REGRESSION)\n",
    "model.fit(train_ds)\n",
    "\n",
    "# Summary of the model structure.\n",
    "#model.summary()\n",
    "\n",
    "# Assuming test_ds contains your test data\n",
    "predictions = model.predict(validation_ds)\n",
    "true_values = np.array([y for x, y in validation_ds.unbatch()])\n",
    "\n",
    "r_squared = r2_score(true_values, predictions)\n",
    "print(\"R-squared:\", r_squared)\n"
   ]
  },
  {
   "cell_type": "code",
   "execution_count": 25,
   "metadata": {},
   "outputs": [
    {
     "name": "stdout",
     "output_type": "stream",
     "text": [
      "2/2 [==============================] - 0s 12ms/step\n"
     ]
    }
   ],
   "source": [
    "test = pd.read_csv(\"../data/test.csv\")\n",
    "test_ds = tfdf.keras.pd_dataframe_to_tf_dataset(test, task=tfdf.keras.Task.REGRESSION)\n",
    "test_predictions = model.predict(test_ds)\n",
    "\n",
    "predictions_df = pd.DataFrame(test_predictions, columns=[\"SalePrice\"])\n",
    "\n",
    "predictions_df.insert(0, 'Id', test['Id'])\n",
    "\n",
    "predictions_df.to_csv('../tfdf_predictions.csv', index=False)"
   ]
  },
  {
   "cell_type": "code",
   "execution_count": null,
   "metadata": {},
   "outputs": [],
   "source": []
  }
 ],
 "metadata": {
  "kernelspec": {
   "display_name": "Python 3 (ipykernel)",
   "language": "python",
   "name": "python3"
  },
  "language_info": {
   "codemirror_mode": {
    "name": "ipython",
    "version": 3
   },
   "file_extension": ".py",
   "mimetype": "text/x-python",
   "name": "python",
   "nbconvert_exporter": "python",
   "pygments_lexer": "ipython3",
   "version": "3.9.6"
  }
 },
 "nbformat": 4,
 "nbformat_minor": 4
}
