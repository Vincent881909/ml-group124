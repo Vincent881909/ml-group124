{
 "cells": [
  {
   "cell_type": "code",
   "outputs": [],
   "source": [
    "import pandas as pd\n",
    "\n",
    "df = pd.read_csv('data/train.csv')\n",
    "df = df.drop(columns=['Id'])"
   ],
   "metadata": {
    "collapsed": false,
    "ExecuteTime": {
     "end_time": "2024-03-04T19:38:43.792197Z",
     "start_time": "2024-03-04T19:38:43.762949Z"
    }
   },
   "id": "83d5475fd0dc4f41",
   "execution_count": 15
  },
  {
   "cell_type": "code",
   "outputs": [
    {
     "data": {
      "text/plain": "   LotArea  MasVnrArea  TotalBsmtSF  GrLivArea  GarageArea  WoodDeckSF  \\\n0     8450       196.0          856       1710         548           0   \n1     9600         0.0         1262       1262         460         298   \n2    11250       162.0          920       1786         608           0   \n3     9550         0.0          756       1717         642           0   \n4    14260       350.0         1145       2198         836         192   \n\n   OpenPorchSF  EnclosedPorch  BsmtFullBath  BsmtHalfBath  FullBath  HalfBath  \\\n0           61              0             1             0         2         1   \n1            0              0             0             1         2         0   \n2           42              0             1             0         2         1   \n3           35            272             1             0         1         0   \n4           84              0             1             0         2         1   \n\n   BedroomAbvGr  KitchenAbvGr  TotRmsAbvGrd  SalePrice  \n0             3             1             8     208500  \n1             3             1             6     181500  \n2             3             1             6     223500  \n3             3             1             7     140000  \n4             4             1             9     250000  ",
      "text/html": "<div>\n<style scoped>\n    .dataframe tbody tr th:only-of-type {\n        vertical-align: middle;\n    }\n\n    .dataframe tbody tr th {\n        vertical-align: top;\n    }\n\n    .dataframe thead th {\n        text-align: right;\n    }\n</style>\n<table border=\"1\" class=\"dataframe\">\n  <thead>\n    <tr style=\"text-align: right;\">\n      <th></th>\n      <th>LotArea</th>\n      <th>MasVnrArea</th>\n      <th>TotalBsmtSF</th>\n      <th>GrLivArea</th>\n      <th>GarageArea</th>\n      <th>WoodDeckSF</th>\n      <th>OpenPorchSF</th>\n      <th>EnclosedPorch</th>\n      <th>BsmtFullBath</th>\n      <th>BsmtHalfBath</th>\n      <th>FullBath</th>\n      <th>HalfBath</th>\n      <th>BedroomAbvGr</th>\n      <th>KitchenAbvGr</th>\n      <th>TotRmsAbvGrd</th>\n      <th>SalePrice</th>\n    </tr>\n  </thead>\n  <tbody>\n    <tr>\n      <th>0</th>\n      <td>8450</td>\n      <td>196.0</td>\n      <td>856</td>\n      <td>1710</td>\n      <td>548</td>\n      <td>0</td>\n      <td>61</td>\n      <td>0</td>\n      <td>1</td>\n      <td>0</td>\n      <td>2</td>\n      <td>1</td>\n      <td>3</td>\n      <td>1</td>\n      <td>8</td>\n      <td>208500</td>\n    </tr>\n    <tr>\n      <th>1</th>\n      <td>9600</td>\n      <td>0.0</td>\n      <td>1262</td>\n      <td>1262</td>\n      <td>460</td>\n      <td>298</td>\n      <td>0</td>\n      <td>0</td>\n      <td>0</td>\n      <td>1</td>\n      <td>2</td>\n      <td>0</td>\n      <td>3</td>\n      <td>1</td>\n      <td>6</td>\n      <td>181500</td>\n    </tr>\n    <tr>\n      <th>2</th>\n      <td>11250</td>\n      <td>162.0</td>\n      <td>920</td>\n      <td>1786</td>\n      <td>608</td>\n      <td>0</td>\n      <td>42</td>\n      <td>0</td>\n      <td>1</td>\n      <td>0</td>\n      <td>2</td>\n      <td>1</td>\n      <td>3</td>\n      <td>1</td>\n      <td>6</td>\n      <td>223500</td>\n    </tr>\n    <tr>\n      <th>3</th>\n      <td>9550</td>\n      <td>0.0</td>\n      <td>756</td>\n      <td>1717</td>\n      <td>642</td>\n      <td>0</td>\n      <td>35</td>\n      <td>272</td>\n      <td>1</td>\n      <td>0</td>\n      <td>1</td>\n      <td>0</td>\n      <td>3</td>\n      <td>1</td>\n      <td>7</td>\n      <td>140000</td>\n    </tr>\n    <tr>\n      <th>4</th>\n      <td>14260</td>\n      <td>350.0</td>\n      <td>1145</td>\n      <td>2198</td>\n      <td>836</td>\n      <td>192</td>\n      <td>84</td>\n      <td>0</td>\n      <td>1</td>\n      <td>0</td>\n      <td>2</td>\n      <td>1</td>\n      <td>4</td>\n      <td>1</td>\n      <td>9</td>\n      <td>250000</td>\n    </tr>\n  </tbody>\n</table>\n</div>"
     },
     "execution_count": 16,
     "metadata": {},
     "output_type": "execute_result"
    }
   ],
   "source": [
    "df_num = df.select_dtypes(include = ['float64', 'int64'])\n",
    "df = df_num[['LotArea','MasVnrArea','TotalBsmtSF','GrLivArea','GarageArea','WoodDeckSF','OpenPorchSF','EnclosedPorch','BsmtFullBath','BsmtHalfBath','FullBath','HalfBath','BedroomAbvGr','KitchenAbvGr','TotRmsAbvGrd','SalePrice']]\n",
    "df = df.dropna()\n",
    "df.head()"
   ],
   "metadata": {
    "collapsed": false,
    "ExecuteTime": {
     "end_time": "2024-03-04T19:38:44.448700Z",
     "start_time": "2024-03-04T19:38:44.420889Z"
    }
   },
   "id": "b0abe75c97d33a8",
   "execution_count": 16
  },
  {
   "cell_type": "code",
   "outputs": [
    {
     "name": "stdout",
     "output_type": "stream",
     "text": [
      "(1162, 16)\n",
      "(290, 16)\n"
     ]
    }
   ],
   "source": [
    "# split data set into train and validation\n",
    "train = df.sample(frac=0.8, random_state=200)\n",
    "validation = df.drop(train.index)\n",
    "print(train.shape)\n",
    "print(validation.shape)"
   ],
   "metadata": {
    "collapsed": false,
    "ExecuteTime": {
     "end_time": "2024-03-04T19:38:45.320328Z",
     "start_time": "2024-03-04T19:38:45.310280Z"
    }
   },
   "id": "e4794a31902b61b6",
   "execution_count": 17
  },
  {
   "cell_type": "code",
   "outputs": [],
   "source": [
    "# split the columns into features and target\n",
    "target = 'SalePrice'\n",
    "features = df.columns.drop(target)\n",
    "\n",
    "# put the target in a separate dataframe\n",
    "train_y = train[target]"
   ],
   "metadata": {
    "collapsed": false,
    "ExecuteTime": {
     "end_time": "2024-03-04T19:38:46.648951Z",
     "start_time": "2024-03-04T19:38:46.641983Z"
    }
   },
   "id": "e28e40aea6d985b6",
   "execution_count": 18
  },
  {
   "cell_type": "code",
   "outputs": [
    {
     "name": "stdout",
     "output_type": "stream",
     "text": [
      "1586632197.5284817\n"
     ]
    }
   ],
   "source": [
    "from sklearn.ensemble import RandomForestRegressor\n",
    "from sklearn.metrics import mean_squared_error\n",
    "\n",
    "# create the model\n",
    "model = RandomForestRegressor(n_estimators=100, max_depth=10)\n",
    "\n",
    "# fit the model\n",
    "model.fit(train[features], train_y)\n",
    "\n",
    "# make predictions\n",
    "validation_predictions = model.predict(validation[features])\n",
    "\n",
    "# print the mean squared error\n",
    "print(mean_squared_error(validation[target], validation_predictions))"
   ],
   "metadata": {
    "collapsed": false,
    "ExecuteTime": {
     "end_time": "2024-03-04T19:38:48.119282Z",
     "start_time": "2024-03-04T19:38:47.722788Z"
    }
   },
   "id": "f53fa05fa23e23ce",
   "execution_count": 19
  },
  {
   "cell_type": "code",
   "outputs": [
    {
     "name": "stdout",
     "output_type": "stream",
     "text": [
      "0.7775072084526131\n"
     ]
    }
   ],
   "source": [
    "from sklearn.metrics import r2_score\n",
    "\n",
    "print(r2_score(validation[target], validation_predictions))"
   ],
   "metadata": {
    "collapsed": false,
    "ExecuteTime": {
     "end_time": "2024-03-04T19:38:49.113447Z",
     "start_time": "2024-03-04T19:38:49.105862Z"
    }
   },
   "id": "e25f7e69a734ea6e",
   "execution_count": 20
  },
  {
   "cell_type": "code",
   "outputs": [],
   "source": [],
   "metadata": {
    "collapsed": false
   },
   "id": "f3f86ae6a5046ea5"
  }
 ],
 "metadata": {
  "kernelspec": {
   "display_name": "Python 3",
   "language": "python",
   "name": "python3"
  },
  "language_info": {
   "codemirror_mode": {
    "name": "ipython",
    "version": 2
   },
   "file_extension": ".py",
   "mimetype": "text/x-python",
   "name": "python",
   "nbconvert_exporter": "python",
   "pygments_lexer": "ipython2",
   "version": "2.7.6"
  }
 },
 "nbformat": 4,
 "nbformat_minor": 5
}
