{
 "cells": [
  {
   "cell_type": "code",
   "outputs": [],
   "source": [
    "import pandas as pd\n",
    "\n",
    "df = pd.read_csv('data/train.csv')\n",
    "df = df.drop(columns=['Id'])"
   ],
   "metadata": {
    "collapsed": false,
    "ExecuteTime": {
     "end_time": "2024-03-04T19:41:12.478580Z",
     "start_time": "2024-03-04T19:41:12.447679Z"
    }
   },
   "id": "83d5475fd0dc4f41",
   "execution_count": 21
  },
  {
   "cell_type": "code",
   "outputs": [
    {
     "data": {
      "text/plain": "   LotArea  MasVnrArea  TotalBsmtSF  GrLivArea  GarageArea  WoodDeckSF  \\\n0     8450       196.0          856       1710         548           0   \n1     9600         0.0         1262       1262         460         298   \n2    11250       162.0          920       1786         608           0   \n3     9550         0.0          756       1717         642           0   \n4    14260       350.0         1145       2198         836         192   \n\n   OpenPorchSF  EnclosedPorch  BsmtFullBath  BsmtHalfBath  FullBath  HalfBath  \\\n0           61              0             1             0         2         1   \n1            0              0             0             1         2         0   \n2           42              0             1             0         2         1   \n3           35            272             1             0         1         0   \n4           84              0             1             0         2         1   \n\n   BedroomAbvGr  KitchenAbvGr  TotRmsAbvGrd  SalePrice  \n0             3             1             8     208500  \n1             3             1             6     181500  \n2             3             1             6     223500  \n3             3             1             7     140000  \n4             4             1             9     250000  ",
      "text/html": "<div>\n<style scoped>\n    .dataframe tbody tr th:only-of-type {\n        vertical-align: middle;\n    }\n\n    .dataframe tbody tr th {\n        vertical-align: top;\n    }\n\n    .dataframe thead th {\n        text-align: right;\n    }\n</style>\n<table border=\"1\" class=\"dataframe\">\n  <thead>\n    <tr style=\"text-align: right;\">\n      <th></th>\n      <th>LotArea</th>\n      <th>MasVnrArea</th>\n      <th>TotalBsmtSF</th>\n      <th>GrLivArea</th>\n      <th>GarageArea</th>\n      <th>WoodDeckSF</th>\n      <th>OpenPorchSF</th>\n      <th>EnclosedPorch</th>\n      <th>BsmtFullBath</th>\n      <th>BsmtHalfBath</th>\n      <th>FullBath</th>\n      <th>HalfBath</th>\n      <th>BedroomAbvGr</th>\n      <th>KitchenAbvGr</th>\n      <th>TotRmsAbvGrd</th>\n      <th>SalePrice</th>\n    </tr>\n  </thead>\n  <tbody>\n    <tr>\n      <th>0</th>\n      <td>8450</td>\n      <td>196.0</td>\n      <td>856</td>\n      <td>1710</td>\n      <td>548</td>\n      <td>0</td>\n      <td>61</td>\n      <td>0</td>\n      <td>1</td>\n      <td>0</td>\n      <td>2</td>\n      <td>1</td>\n      <td>3</td>\n      <td>1</td>\n      <td>8</td>\n      <td>208500</td>\n    </tr>\n    <tr>\n      <th>1</th>\n      <td>9600</td>\n      <td>0.0</td>\n      <td>1262</td>\n      <td>1262</td>\n      <td>460</td>\n      <td>298</td>\n      <td>0</td>\n      <td>0</td>\n      <td>0</td>\n      <td>1</td>\n      <td>2</td>\n      <td>0</td>\n      <td>3</td>\n      <td>1</td>\n      <td>6</td>\n      <td>181500</td>\n    </tr>\n    <tr>\n      <th>2</th>\n      <td>11250</td>\n      <td>162.0</td>\n      <td>920</td>\n      <td>1786</td>\n      <td>608</td>\n      <td>0</td>\n      <td>42</td>\n      <td>0</td>\n      <td>1</td>\n      <td>0</td>\n      <td>2</td>\n      <td>1</td>\n      <td>3</td>\n      <td>1</td>\n      <td>6</td>\n      <td>223500</td>\n    </tr>\n    <tr>\n      <th>3</th>\n      <td>9550</td>\n      <td>0.0</td>\n      <td>756</td>\n      <td>1717</td>\n      <td>642</td>\n      <td>0</td>\n      <td>35</td>\n      <td>272</td>\n      <td>1</td>\n      <td>0</td>\n      <td>1</td>\n      <td>0</td>\n      <td>3</td>\n      <td>1</td>\n      <td>7</td>\n      <td>140000</td>\n    </tr>\n    <tr>\n      <th>4</th>\n      <td>14260</td>\n      <td>350.0</td>\n      <td>1145</td>\n      <td>2198</td>\n      <td>836</td>\n      <td>192</td>\n      <td>84</td>\n      <td>0</td>\n      <td>1</td>\n      <td>0</td>\n      <td>2</td>\n      <td>1</td>\n      <td>4</td>\n      <td>1</td>\n      <td>9</td>\n      <td>250000</td>\n    </tr>\n  </tbody>\n</table>\n</div>"
     },
     "execution_count": 22,
     "metadata": {},
     "output_type": "execute_result"
    }
   ],
   "source": [
    "df_num = df.select_dtypes(include = ['float64', 'int64'])\n",
    "df = df_num[['LotArea','MasVnrArea','TotalBsmtSF','GrLivArea','GarageArea','WoodDeckSF','OpenPorchSF','EnclosedPorch','BsmtFullBath','BsmtHalfBath','FullBath','HalfBath','BedroomAbvGr','KitchenAbvGr','TotRmsAbvGrd','SalePrice']]\n",
    "df = df.dropna()\n",
    "df.head()"
   ],
   "metadata": {
    "collapsed": false,
    "ExecuteTime": {
     "end_time": "2024-03-04T19:41:12.865189Z",
     "start_time": "2024-03-04T19:41:12.841373Z"
    }
   },
   "id": "b0abe75c97d33a8",
   "execution_count": 22
  },
  {
   "cell_type": "code",
   "outputs": [
    {
     "name": "stdout",
     "output_type": "stream",
     "text": [
      "(1162, 16)\n",
      "(290, 16)\n"
     ]
    }
   ],
   "source": [
    "# split data set into train and validation\n",
    "train = df.sample(frac=0.8, random_state=200)\n",
    "validation = df.drop(train.index)\n",
    "print(train.shape)\n",
    "print(validation.shape)"
   ],
   "metadata": {
    "collapsed": false,
    "ExecuteTime": {
     "end_time": "2024-03-04T19:41:13.477558Z",
     "start_time": "2024-03-04T19:41:13.471195Z"
    }
   },
   "id": "e4794a31902b61b6",
   "execution_count": 23
  },
  {
   "cell_type": "code",
   "outputs": [
    {
     "data": {
      "text/plain": "      LotArea  MasVnrArea  TotalBsmtSF  GrLivArea  GarageArea  WoodDeckSF  \\\n1435     8400       237.0         1319       1537         462           0   \n207     12493         0.0         1100       1100         312         355   \n1346    20781         0.0         1568       2156         508           0   \n540     14601       584.0         1838       1838         765         270   \n433     10839         0.0          926       1604         470           0   \n\n      OpenPorchSF  EnclosedPorch  BsmtFullBath  BsmtHalfBath  FullBath  \\\n1435           36              0             1             0         1   \n207             0              0             1             0         1   \n1346           80              0             0             0         2   \n540            68              0             1             0         2   \n433            36              0             0             0         2   \n\n      HalfBath  BedroomAbvGr  KitchenAbvGr  TotRmsAbvGrd  \n1435         1             3             1             7  \n207          0             3             1             6  \n1346         0             3             1             9  \n540          0             2             1             8  \n433          1             3             1             7  ",
      "text/html": "<div>\n<style scoped>\n    .dataframe tbody tr th:only-of-type {\n        vertical-align: middle;\n    }\n\n    .dataframe tbody tr th {\n        vertical-align: top;\n    }\n\n    .dataframe thead th {\n        text-align: right;\n    }\n</style>\n<table border=\"1\" class=\"dataframe\">\n  <thead>\n    <tr style=\"text-align: right;\">\n      <th></th>\n      <th>LotArea</th>\n      <th>MasVnrArea</th>\n      <th>TotalBsmtSF</th>\n      <th>GrLivArea</th>\n      <th>GarageArea</th>\n      <th>WoodDeckSF</th>\n      <th>OpenPorchSF</th>\n      <th>EnclosedPorch</th>\n      <th>BsmtFullBath</th>\n      <th>BsmtHalfBath</th>\n      <th>FullBath</th>\n      <th>HalfBath</th>\n      <th>BedroomAbvGr</th>\n      <th>KitchenAbvGr</th>\n      <th>TotRmsAbvGrd</th>\n    </tr>\n  </thead>\n  <tbody>\n    <tr>\n      <th>1435</th>\n      <td>8400</td>\n      <td>237.0</td>\n      <td>1319</td>\n      <td>1537</td>\n      <td>462</td>\n      <td>0</td>\n      <td>36</td>\n      <td>0</td>\n      <td>1</td>\n      <td>0</td>\n      <td>1</td>\n      <td>1</td>\n      <td>3</td>\n      <td>1</td>\n      <td>7</td>\n    </tr>\n    <tr>\n      <th>207</th>\n      <td>12493</td>\n      <td>0.0</td>\n      <td>1100</td>\n      <td>1100</td>\n      <td>312</td>\n      <td>355</td>\n      <td>0</td>\n      <td>0</td>\n      <td>1</td>\n      <td>0</td>\n      <td>1</td>\n      <td>0</td>\n      <td>3</td>\n      <td>1</td>\n      <td>6</td>\n    </tr>\n    <tr>\n      <th>1346</th>\n      <td>20781</td>\n      <td>0.0</td>\n      <td>1568</td>\n      <td>2156</td>\n      <td>508</td>\n      <td>0</td>\n      <td>80</td>\n      <td>0</td>\n      <td>0</td>\n      <td>0</td>\n      <td>2</td>\n      <td>0</td>\n      <td>3</td>\n      <td>1</td>\n      <td>9</td>\n    </tr>\n    <tr>\n      <th>540</th>\n      <td>14601</td>\n      <td>584.0</td>\n      <td>1838</td>\n      <td>1838</td>\n      <td>765</td>\n      <td>270</td>\n      <td>68</td>\n      <td>0</td>\n      <td>1</td>\n      <td>0</td>\n      <td>2</td>\n      <td>0</td>\n      <td>2</td>\n      <td>1</td>\n      <td>8</td>\n    </tr>\n    <tr>\n      <th>433</th>\n      <td>10839</td>\n      <td>0.0</td>\n      <td>926</td>\n      <td>1604</td>\n      <td>470</td>\n      <td>0</td>\n      <td>36</td>\n      <td>0</td>\n      <td>0</td>\n      <td>0</td>\n      <td>2</td>\n      <td>1</td>\n      <td>3</td>\n      <td>1</td>\n      <td>7</td>\n    </tr>\n  </tbody>\n</table>\n</div>"
     },
     "execution_count": 39,
     "metadata": {},
     "output_type": "execute_result"
    }
   ],
   "source": [
    "# split the columns into features and target; ie x y split\n",
    "\n",
    "target = 'SalePrice'\n",
    "train_x = train.drop(target, axis=1)\n",
    "train_y = train[target]\n",
    "\n",
    "validation_x = validation.drop(target, axis=1)\n",
    "validation_y = validation[target]\n",
    "\n",
    "train_x.head()"
   ],
   "metadata": {
    "collapsed": false,
    "ExecuteTime": {
     "end_time": "2024-03-04T20:05:31.051712Z",
     "start_time": "2024-03-04T20:05:31.031785Z"
    }
   },
   "id": "e28e40aea6d985b6",
   "execution_count": 39
  },
  {
   "cell_type": "code",
   "outputs": [
    {
     "name": "stdout",
     "output_type": "stream",
     "text": [
      "1479894336.1344929\n"
     ]
    }
   ],
   "source": [
    "from sklearn.ensemble import RandomForestRegressor\n",
    "from sklearn.metrics import mean_squared_error\n",
    "\n",
    "# create the model\n",
    "rfr_model = RandomForestRegressor(n_estimators=100, max_depth=10)\n",
    "\n",
    "# fit the model\n",
    "rfr_model.fit(train_x, train_y)\n",
    "\n",
    "# make predictions\n",
    "validation_predictions = rfr_model.predict(validation_x)\n",
    "\n",
    "# print the mean squared error\n",
    "print(mean_squared_error(validation_y, validation_predictions))"
   ],
   "metadata": {
    "collapsed": false,
    "ExecuteTime": {
     "end_time": "2024-03-04T20:02:08.036767Z",
     "start_time": "2024-03-04T20:02:07.651453Z"
    }
   },
   "id": "f53fa05fa23e23ce",
   "execution_count": 35
  },
  {
   "cell_type": "code",
   "outputs": [
    {
     "name": "stdout",
     "output_type": "stream",
     "text": [
      "0.7924750155993103\n"
     ]
    }
   ],
   "source": [
    "from sklearn.metrics import r2_score\n",
    "\n",
    "print(r2_score(validation_y, validation_predictions))"
   ],
   "metadata": {
    "collapsed": false,
    "ExecuteTime": {
     "end_time": "2024-03-04T20:02:18.108520Z",
     "start_time": "2024-03-04T20:02:18.102388Z"
    }
   },
   "id": "e25f7e69a734ea6e",
   "execution_count": 36
  },
  {
   "cell_type": "code",
   "outputs": [
    {
     "name": "stdout",
     "output_type": "stream",
     "text": [
      "0.8062487981346209\n"
     ]
    }
   ],
   "source": [
    "from sklearn.ensemble import GradientBoostingRegressor\n",
    "\n",
    "# create the model\n",
    "gbr_model = GradientBoostingRegressor(loss='squared_error')\n",
    "\n",
    "gbr_model.fit(train_x, train_y)\n",
    "\n",
    "print(gbr_model.score(validation_x, validation_y))"
   ],
   "metadata": {
    "collapsed": false,
    "ExecuteTime": {
     "end_time": "2024-03-04T20:02:40.179333Z",
     "start_time": "2024-03-04T20:02:40.000502Z"
    }
   },
   "id": "f3f86ae6a5046ea5",
   "execution_count": 37
  },
  {
   "cell_type": "code",
   "outputs": [],
   "source": [],
   "metadata": {
    "collapsed": false
   },
   "id": "da8a2d7d53831ca9"
  }
 ],
 "metadata": {
  "kernelspec": {
   "display_name": "Python 3",
   "language": "python",
   "name": "python3"
  },
  "language_info": {
   "codemirror_mode": {
    "name": "ipython",
    "version": 2
   },
   "file_extension": ".py",
   "mimetype": "text/x-python",
   "name": "python",
   "nbconvert_exporter": "python",
   "pygments_lexer": "ipython2",
   "version": "2.7.6"
  }
 },
 "nbformat": 4,
 "nbformat_minor": 5
}
