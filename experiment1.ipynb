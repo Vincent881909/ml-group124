{
 "cells": [
  {
   "cell_type": "code",
   "execution_count": null,
   "id": "83d5475fd0dc4f41",
   "metadata": {
    "ExecuteTime": {
     "end_time": "2024-03-05T13:42:34.992611Z",
     "start_time": "2024-03-05T13:42:33.950703Z"
    },
    "collapsed": false
   },
   "outputs": [],
   "source": [
    "import pandas as pd\n",
    "\n",
    "df = pd.read_csv('data/train.csv')\n",
    "df = df.drop(columns=['Id'])"
   ]
  },
  {
   "cell_type": "code",
   "execution_count": null,
   "id": "b0abe75c97d33a8",
   "metadata": {
    "collapsed": false
   },
   "outputs": [],
   "source": [
    "# df_num = df.select_dtypes(include = ['float64', 'int64'])\n",
    "# df = df_num[['LotArea','MasVnrArea','TotalBsmtSF','GrLivArea','GarageArea','WoodDeckSF','OpenPorchSF','EnclosedPorch','BsmtFullBath','BsmtHalfBath','FullBath','HalfBath','BedroomAbvGr','KitchenAbvGr','TotRmsAbvGrd','SalePrice']]\n",
    "# df = df.dropna()\n",
    "# df.head()"
   ]
  },
  {
   "cell_type": "code",
   "execution_count": null,
   "id": "e4794a31902b61b6",
   "metadata": {
    "ExecuteTime": {
     "end_time": "2024-03-05T13:42:36.616847Z",
     "start_time": "2024-03-05T13:42:36.603163Z"
    },
    "collapsed": false
   },
   "outputs": [],
   "source": [
    "# split data set into train and validation\n",
    "train = df.sample(frac=0.8, random_state=200)\n",
    "validation = df.drop(train.index)\n",
    "\n",
    "print(train.shape)\n",
    "print(validation.shape)"
   ]
  },
  {
   "cell_type": "code",
   "execution_count": null,
   "id": "e28e40aea6d985b6",
   "metadata": {
    "ExecuteTime": {
     "end_time": "2024-03-05T13:43:13.876605Z",
     "start_time": "2024-03-05T13:43:13.841398Z"
    },
    "collapsed": false
   },
   "outputs": [],
   "source": [
    "# split the columns into features and target; ie x y split\n",
    "\n",
    "target = 'SalePrice'\n",
    "train_x = train.drop(target, axis=1)\n",
    "train_y = train[target]\n",
    "\n",
    "validation_x = validation.drop(target, axis=1)\n",
    "validation_y = validation[target]\n",
    "\n",
    "train_x.head()"
   ]
  },
  {
   "cell_type": "code",
   "execution_count": null,
   "id": "f53fa05fa23e23ce",
   "metadata": {
    "collapsed": false
   },
   "outputs": [],
   "source": [
    "from sklearn.ensemble import RandomForestRegressor\n",
    "from sklearn.metrics import mean_squared_error\n",
    "\n",
    "# create the model\n",
    "rfr_model = RandomForestRegressor(n_estimators=100, max_depth=10)\n",
    "\n",
    "# fit the model\n",
    "rfr_model.fit(train_x, train_y)\n",
    "\n",
    "# make predictions\n",
    "validation_predictions = rfr_model.predict(validation_x)\n",
    "\n",
    "# print the mean squared error\n",
    "print(mean_squared_error(validation_y, validation_predictions))"
   ]
  },
  {
   "cell_type": "code",
   "execution_count": null,
   "id": "e25f7e69a734ea6e",
   "metadata": {
    "collapsed": false
   },
   "outputs": [],
   "source": [
    "from sklearn.metrics import r2_score\n",
    "\n",
    "print(r2_score(validation_y, validation_predictions))"
   ]
  },
  {
   "cell_type": "code",
   "execution_count": null,
   "id": "f3f86ae6a5046ea5",
   "metadata": {
    "collapsed": false
   },
   "outputs": [],
   "source": [
    "from sklearn.ensemble import GradientBoostingRegressor\n",
    "\n",
    "# create the model\n",
    "gbr_model = GradientBoostingRegressor(loss='squared_error')\n",
    "\n",
    "gbr_model.fit(train_x, train_y)\n",
    "\n",
    "print(gbr_model.score(validation_x, validation_y))"
   ]
  },
  {
   "cell_type": "code",
   "execution_count": null,
   "id": "27a66e0698ec383",
   "metadata": {
    "ExecuteTime": {
     "start_time": "2024-03-05T13:45:06.223935Z"
    },
    "collapsed": false,
    "is_executing": true
   },
   "outputs": [],
   "source": [
    "import tensorflow_decision_forests as tfdf\n",
    "\n",
    "# Convert the dataset into a TensorFlow dataset\n",
    "train_ds = tfdf.keras.pd_dataframe_to_tf_dataset(train, label='SalePrice', task=tfdf.keras.Task.REGRESSION)\n",
    "validation_ds = tfdf.keras.pd_dataframe_to_tf_dataset(validation, label='SalePrice', task=tfdf.keras.Task.REGRESSION)\n",
    "\n",
    "\n",
    "# Train the model\n",
    "df_model = tfdf.keras.RandomForestModel(task=tfdf.keras.Task.REGRESSION)\n",
    "df_model.fit(train_ds)\n",
    "\n",
    "# Evaluate the model\n",
    "evaluation = df_model.evaluate(validation_ds)\n"
   ]
  },
  {
   "cell_type": "code",
   "execution_count": null,
   "id": "b465ffa08778f8b1",
   "metadata": {
    "collapsed": false
   },
   "outputs": [],
   "source": [
    "print(df_model.summary())"
   ]
  },
  {
   "cell_type": "code",
   "outputs": [],
   "source": [],
   "metadata": {
    "collapsed": false
   },
   "id": "38645eca239677ff"
  }
 ],
 "metadata": {
  "kernelspec": {
   "display_name": "Python 3",
   "language": "python",
   "name": "python3"
  },
  "language_info": {
   "codemirror_mode": {
    "name": "ipython",
    "version": 3
   },
   "file_extension": ".py",
   "mimetype": "text/x-python",
   "name": "python",
   "nbconvert_exporter": "python",
   "pygments_lexer": "ipython3",
   "version": "3.9.6"
  }
 },
 "nbformat": 4,
 "nbformat_minor": 5
}
